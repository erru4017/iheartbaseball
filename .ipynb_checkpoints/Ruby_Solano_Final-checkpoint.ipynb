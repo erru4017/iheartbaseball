{
 "cells": [
  {
   "cell_type": "markdown",
   "metadata": {},
   "source": [
    "Erin Ruby and Courtney Solano presenting 5th"
   ]
  },
  {
   "cell_type": "markdown",
   "metadata": {},
   "source": [
    "# Final#\n",
    "#### CSCI 4831 - Sabermetrics ####\n",
    "#### Instructor: Hoenigman ####\n",
    "#### Due: Wednesday, May 1 by 3pm ####\n"
   ]
  },
  {
   "cell_type": "markdown",
   "metadata": {},
   "source": [
    "# Comments from Rhonda #\n",
    "I wonder if you could consider whether the previous play increased win expectancy as a way to weight the WE on the next play. You would use (WE_Current/WE_previous) to give you a value around 1. Greater than 1 means they improved and <1 means they decreased. Use that to weight the next WE calculation. I have no idea what that would do, but it could be interesting. It might be noisy and you might want to consider WE over the previous 2 plays instead of 1, or previous 3 plays."
   ]
  },
  {
   "cell_type": "markdown",
   "metadata": {},
   "source": [
    "# Explanation of statistic #\n",
    "Win Expectancy is the percent chance that a team will win, given a current state, right before a player bats in the game. The current win expectancy is calculated using historical data, looking at the percent of teams that have won, given a current state. The states consist of the inning number, whether is it is the top or bottom of the inning, if the team is tied or winning or losing by 1 point, how many outs there are, and runners on base. \n",
    "\n",
    "The current win expectancy is in a table, with all the possible combinations of inning, top/bottom, score, outs and runners on base. This WE is limited because it was all done by hand and only shows from the bottom of the 7th to the bottom of the 9th. It also only shows states when the scores are tied or have a difference of 1. Another limitation with this WE calculation is that the team playing is not taken into consideration. There are teams that are better than others, which would mean that they have a higher percent chance of winning. \n",
    "\n",
    "Our Win Expectancy solves that problem, and does more! We calculate win expectancy using historical data, but we can do it for any state the user types in and any team. We used the rankings from 2018 of the teams to add more weight to their WE. We also take in the previous state into consideration in the WE calculation because 2 good states in a row can signify that more good states are possible in the future, therefore increasing the team's chance of winning. \n",
    "\n",
    "The user enters the home and away team, if it is the top or bottom of the inning, the inning number, and the two states. The states include the home and away score, number of outs, and which bases have a runner. The WE is calculated for the team that is up to bat, (bottom - home, top - away). \n",
    "\n",
    "A limitations for our win expectancy calculation is the it only works for two consecutive states, within the same inning.\n",
    "\n",
    "# NOT FINISHED #\n"
   ]
  },
  {
   "cell_type": "markdown",
   "metadata": {},
   "source": [
    "# Demonstration #\n",
    "Your demonstration needs to be in the form of an application showing how the statistic\n",
    "works. You will need to have all of the necessary data in your application, and a visual presentation\n",
    "that is clear to the users. An example of a demonstration is a website where users can select players\n",
    "and see how the stat is calculated for those players. You might also do a mobile app. If you took\n",
    "3308 or the mobile app class in ATLAS, this project will be a great application of the content\n",
    "covered in those classes. You can also produce a Jupyter notebook. I’ll give up to 5pts extra credit\n",
    "for anyone who produces an application more advanced than a Jupyter notebook.\n",
    "\n",
    "# STILL NEED TO DO#\n"
   ]
  },
  {
   "cell_type": "markdown",
   "metadata": {},
   "source": [
    "# Evaluation of statistic #\n",
    "As part of your demonstration, you should include an evaluation of how your statistic\n",
    "compares to other statistics. This could be in the form of presenting other statistics along with\n",
    "your own. You may want to include a correlation score between your stat and other related stats.\n",
    "\n",
    "# NEED TO DO #\n",
    "show 3-4 specific games where a team wins and our stat calcuates that they win and Tango WE did not predict it"
   ]
  },
  {
   "cell_type": "markdown",
   "metadata": {},
   "source": [
    "# Presentation #\n",
    "For the presentation, please produce a 5-7 minute video that describes your project. You\n",
    "could do a screencast showing how your application works. If you do a website, you should also\n",
    "include the web address.\n",
    "\n",
    "# MAKE A VIDEO #"
   ]
  },
  {
   "cell_type": "code",
   "execution_count": 4,
   "metadata": {},
   "outputs": [],
   "source": [
    "from pybaseball import statcast\n",
    "from pybaseball import playerid_reverse_lookup\n",
    "from pybaseball.lahman import *\n",
    "from pybaseball.retrosheet import *\n",
    "import pandas as pd\n",
    "import numpy as np\n",
    "import math\n",
    "# download_lahman() \n",
    "pd.set_option('display.max_columns', 5000)"
   ]
  },
  {
   "cell_type": "code",
   "execution_count": 5,
   "metadata": {},
   "outputs": [],
   "source": [
    "import matplotlib.pyplot as plt\n",
    "import scipy.stats as stats\n",
    "%matplotlib inline\n"
   ]
  },
  {
   "cell_type": "code",
   "execution_count": 19,
   "metadata": {},
   "outputs": [],
   "source": [
    "def readData_Erin():\n",
    "#     april2015 = pd.read_csv(\"../data/2015/dataApril2015.csv\")\n",
    "#     may2015 = pd.read_csv(\"../data/2015/dataMay2015.csv\")\n",
    "#     june2015 = pd.read_csv(\"../data/2015/dataJune2015.csv\")\n",
    "#     july2015 = pd.read_csv(\"../data/2015/dataJuly2015.csv\")\n",
    "#     aug2015 = pd.read_csv(\"../data/2015/dataAug2015.csv\")\n",
    "#     sep2015 = pd.read_csv(\"../data/2015/dataSept2015.csv\")\n",
    "#     oct2015 = pd.read_csv(\"../data/2015/dataOct2015.csv\")\n",
    "#     df2015 = pd.concat([april2015,may2015,june2015,july2015,aug2015,sep2015,oct2015])\n",
    "    \n",
    "    df2016 = pd.read_csv(\"../data/2016/data2016.csv\")\n",
    "    \n",
    "#     april2017 = pd.read_csv(\"../data/2017/dataApril2017.csv\")\n",
    "#     may2017 = pd.read_csv(\"../data/2017/dataMay2017.csv\")\n",
    "#     june2017 = pd.read_csv(\"../data/2017/dataJune2017.csv\")\n",
    "#     july2017 = pd.read_csv(\"../data/2017/dataJuly2017.csv\")\n",
    "#     aug2017 = pd.read_csv(\"../data/2017/dataAug2017.csv\")\n",
    "#     sep2017 = pd.read_csv(\"../data/2017/dataSept2017.csv\")\n",
    "#     oct2017 = pd.read_csv(\"../data/2017/dataOct2017.csv\")\n",
    "#     df2017 = pd.concat([april2017,may2017,june2017,july2017,aug2017,sep2017,oct2017])\n",
    "    \n",
    "#     april2018 = pd.read_csv(\"../data/2018/dataApril2018.csv\")\n",
    "#     may2018 = pd.read_csv(\"../data/2018/dataMay2018.csv\")\n",
    "#     june2018 = pd.read_csv(\"../data/2018/dataJune2018.csv\")\n",
    "#     july2018 = pd.read_csv(\"../data/2018/dataJuly2018.csv\")\n",
    "#     aug2018 = pd.read_csv(\"../data/2018/dataAug2018.csv\")\n",
    "#     sep2018 = pd.read_csv(\"../data/2018/dataSept2018.csv\")\n",
    "#     oct2018 = pd.read_csv(\"../data/2018/dataOct2018.csv\")\n",
    "#     df2018 = pd.concat([april2018,may2018,june2018,july2018,aug2018,sep2018,oct2018])\n",
    "    \n",
    "#     df1518 = pd.concat([df2015, df2016, df2017, df2018])\n",
    "    \n",
    "    return df2016"
   ]
  },
  {
   "cell_type": "code",
   "execution_count": 7,
   "metadata": {},
   "outputs": [],
   "source": [
    "def readData_Court():\n",
    "    df2015 = pd.read_csv(\"../data/2015/data2015.csv\")\n",
    "    df2016 = pd.read_csv(\"../data/2016/data2016.csv\")\n",
    "    df2017 = pd.read_csv(\"../data/2017/data2017.csv\")\n",
    "    df2018 = pd.read_csv(\"../data/2018/data2018.csv\")\n",
    "    \n",
    "    df1518 = pd.concat([df2015, df2016, df2017, df2018])\n",
    "    \n",
    "    return df1518"
   ]
  },
  {
   "cell_type": "code",
   "execution_count": 8,
   "metadata": {},
   "outputs": [],
   "source": [
    "def getState(df, inning, inning_topbot, on_1b, on_2b, on_3b, outs_when_up, score):\n",
    "    \n",
    "    if on_1b == 1:\n",
    "        df_criteria = df.loc[df['on_1b'].notnull()]\n",
    "    else:\n",
    "        df_criteria = df.loc[df['on_1b'].isnull()]\n",
    "    if on_2b == 1:\n",
    "        df_criteria = df_criteria.loc[df['on_2b'].notnull()]\n",
    "    else:\n",
    "        df_criteria = df_criteria.loc[df['on_2b'].isnull()]\n",
    "    if on_3b == 1:\n",
    "        df_criteria = df_criteria.loc[df['on_3b'].notnull()]\n",
    "    else:\n",
    "        df_criteria = df_criteria.loc[df['on_3b'].isnull()]\n",
    "        \n",
    "    df_criteria = df_criteria.loc[(df['inning']==inning) & (df['inning_topbot']==inning_topbot)\n",
    "                         & ((df['home_score'])-(df['away_score'])==score)\n",
    "                         & (df['outs_when_up']==outs_when_up)]\n",
    "    return len(df_criteria.loc[df_criteria['W'] == True])/len(df_criteria)"
   ]
  },
  {
   "cell_type": "code",
   "execution_count": 9,
   "metadata": {},
   "outputs": [],
   "source": [
    "def getRank(ranking, team):\n",
    "    r = ranking.loc[ranking['Tm']==team]['Rk']\n",
    "    return 0.1/r"
   ]
  },
  {
   "cell_type": "code",
   "execution_count": 10,
   "metadata": {},
   "outputs": [],
   "source": [
    "def getWeight(probPrev, probCurrent, r):\n",
    "    weight = (probCurrent/probPrev)\n",
    "    if (weight>1):\n",
    "        weight = (probCurrent/probPrev)/100\n",
    "    else:\n",
    "        weight = -1*(probCurrent/probPrev)/100\n",
    "\n",
    "    return probCurrent + weight + r"
   ]
  },
  {
   "cell_type": "code",
   "execution_count": 11,
   "metadata": {},
   "outputs": [],
   "source": [
    "def validStates(inning1, inning2, outs1, out2, topbot1, topbot2):\n",
    "    if(inning1 < inning2): #cant go back an inning\n",
    "        return False\n",
    "    if ((topbot1 == topbot2) and (inning1 == inning2) ): #cant go down in outs, if in the same inning\n",
    "        if(outs1 < outs2):\n",
    "            return False\n",
    "    if(topbot1 == 'Bot' and topbot2 =='Top'): #cant go from bot to top in the same inning\n",
    "        if(inning1 >= inning2):\n",
    "            return False\n",
    "    else:\n",
    "        return True\n",
    "        \n",
    "    "
   ]
  },
  {
   "cell_type": "code",
   "execution_count": 14,
   "metadata": {},
   "outputs": [],
   "source": [
    "def main():\n",
    "#     df1518 = readData_Erin()\n",
    "#     gameData = df1518.copy().groupby(['game_date', \n",
    "#                                       'away_team', 'home_team']).max()[['away_score', 'home_score']].reset_index()\n",
    "#     gameData['W'] = gameData['home_score']>gameData['away_score']\n",
    "#     gameData.head()\n",
    "# #     states = df1518.copy()\n",
    "#     df = states.merge(gameData[['game_date','home_team','W']], how='inner',on=['game_date', 'home_team'])\n",
    "#     def getState(df, inning, inning_topbot, on_1b, on_2b, on_3b, outs_when_up):\n",
    "    \n",
    "    ###ASK USER###\n",
    "    team = 'BOS'\n",
    "#     ranking = pd.read_csv('../data/rankings.csv') #https://www.baseball-reference.com/leagues/MLB/2018-standings.shtml\n",
    "    probPrev = getState(df, 7, 'Top', 0, 0, 0, 0 , -1)\n",
    "    probCurrent = getState(df, 7, 'Top', 0, 0, 0, 1, -1)\n",
    "    r = getRank(ranking, team)\n",
    "    newProb = getWeight(probPrev, probCurrent, r)\n",
    "    print (newProb)"
   ]
  },
  {
   "cell_type": "code",
   "execution_count": 16,
   "metadata": {},
   "outputs": [],
   "source": [
    "# main()"
   ]
  },
  {
   "cell_type": "code",
   "execution_count": 21,
   "metadata": {},
   "outputs": [],
   "source": [
    "df1518 = readData_Erin()\n",
    "gameData = df1518.copy().groupby(['game_date',\n",
    "                                  'away_team', 'home_team']).max()[['away_score', 'home_score']].reset_index()\n",
    "gameData['W'] = gameData['home_score']>gameData['away_score']\n",
    "states = df1518.copy()\n",
    "df = states.merge(gameData[['game_date','home_team','W']], how='inner',on=['game_date', 'home_team'])\n",
    "ranking = pd.read_csv('../data/rankings.csv') #https://www.baseball-reference.com/leagues/MLB/2018-standings.shtml\n"
   ]
  },
  {
   "cell_type": "code",
   "execution_count": 22,
   "metadata": {},
   "outputs": [
    {
     "name": "stdout",
     "output_type": "stream",
     "text": [
      "0    0.23397\n",
      "Name: Rk, dtype: float64\n"
     ]
    }
   ],
   "source": [
    "team = 'BOS'\n",
    "probPrev = getState(df, 7, 'Top', 0, 0, 0, 0 , -1)\n",
    "probCurrent = getState(df, 7, 'Top', 0, 0, 0, 1, -1)\n",
    "r = getRank(ranking, team)\n",
    "newProb = getWeight(probPrev, probCurrent, r)\n",
    "print (newProb)"
   ]
  },
  {
   "cell_type": "markdown",
   "metadata": {},
   "source": [
    "todo:\n",
    "make a simple user interface to input home team, away team, which team you want to know the WE for. and 2 states (inning, outs, runners on base, difference in score) negative means home is losing. \n",
    "\n",
    "also we need to implement a check to see that two states can be consecutive   "
   ]
  }
 ],
 "metadata": {
  "kernelspec": {
   "display_name": "Python 3",
   "language": "python",
   "name": "python3"
  },
  "language_info": {
   "codemirror_mode": {
    "name": "ipython",
    "version": 3
   },
   "file_extension": ".py",
   "mimetype": "text/x-python",
   "name": "python",
   "nbconvert_exporter": "python",
   "pygments_lexer": "ipython3",
   "version": "3.6.4"
  }
 },
 "nbformat": 4,
 "nbformat_minor": 2
}
